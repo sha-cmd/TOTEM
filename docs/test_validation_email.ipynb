{
 "cells": [
  {
   "cell_type": "code",
   "execution_count": null,
   "id": "initial_id",
   "metadata": {
    "collapsed": true
   },
   "outputs": [],
   "source": [
    "import unittest\n",
    "\n",
    "def validate_email(email):\n",
    "    import re\n",
    "    pattern = r'^[a-zA-Z0-9._%+-]+@[a-zA-Z0-9.-]+\\.[a-zA-Z]{2,}$'\n",
    "    return bool(re.match(pattern, email))"
   ]
  },
  {
   "metadata": {},
   "cell_type": "markdown",
   "source": [
    "# Tests unitaires pour la fonction validate_email\n",
    "\n",
    "Ce notebook contient des tests unitaires pour la fonction `validate_email` qui vérifie si une chaîne de caractères est une adresse email valide selon un modèle d'expression régulière.\n",
    "\n",
    "Le modèle vérifie:\n",
    "- La partie locale (avant @) contient des lettres, chiffres et certains caractères spéciaux (._%+-)\n",
    "- Un symbole @ obligatoire\n",
    "- Un nom de domaine contenant des lettres, chiffres, points et tirets\n",
    "- Une extension de domaine d'au moins 2 lettres après le dernier point"
   ],
   "id": "17462fb95edb4df4"
  },
  {
   "metadata": {},
   "cell_type": "code",
   "outputs": [],
   "execution_count": null,
   "source": [
    "class TestValidateEmail(unittest.TestCase):\n",
    "\n",
    "    def test_emails_valides(self):\n",
    "        \"\"\"Teste que les adresses email valides sont correctement identifiées.\"\"\"\n",
    "        emails_valides = [\n",
    "            \"utilisateur@example.com\",\n",
    "            \"user.name@example.com\",\n",
    "            \"user-name@example.com\",\n",
    "            \"user_name@example.com\",\n",
    "            \"user+name@example.com\",\n",
    "            \"user123@example.com\",\n",
    "            \"utilisateur@sous-domaine.example.com\",\n",
    "            \"utilisateur@example.co.uk\",\n",
    "            \"123456@example.com\",\n",
    "            \"utilisateur@123.com\",\n",
    "            \"u@example.com\"  # Email court mais valide\n",
    "        ]\n",
    "\n",
    "        for email in emails_valides:\n",
    "            with self.subTest(email=email):\n",
    "                self.assertTrue(validate_email(email), f\"L'email '{email}' devrait être reconnu comme val"
   ],
   "id": "6c4edf86a6b7773f"
  },
  {
   "metadata": {},
   "cell_type": "code",
   "outputs": [],
   "execution_count": null,
   "source": [
    "    def test_emails_invalides(self):\n",
    "        \"\"\"Teste que les adresses email invalides sont correctement rejetées.\"\"\"\n",
    "        emails_invalides = [\n",
    "            \"\",                              # Chaîne vide\n",
    "            \"utilisateur\",                   # Sans @ ni domaine\n",
    "            \"@example.com\",                  # Sans partie locale\n",
    "            \"utilisateur@\",                  # Sans domaine\n",
    "            \"utilisateur@.com\",              # Domaine commence par un point\n",
    "            \"utilisateur@example\",           # Sans extension de domaine\n",
    "            \"utilisateur@example.\",          # Extension vide\n",
    "            \"utilisateur@example.c\",         # Extension trop courte (1 caractère)\n",
    "            \"utilisateur@example..com\",      # Double point dans le domaine\n",
    "            \"utilisateur @example.com\",      # Espace avant @\n",
    "            \"utilisateur@ example.com\",      # Espace après @\n",
    "            \"!utilisateur@example.com\",      # Caractère non autorisé (!) dans la partie locale\n",
    "            \"utilisateur@exa$mple.com\",      # Caractère non autorisé ($) dans le domaine\n",
    "            \"utilisateur@-example.com\",      # Domaine commençant par un tiret\n",
    "            \"utilisateur@example-.com\",      # Partie du domaine finissant par un tiret\n",
    "            \"utilisateur@@example.com\"       # Double @\n",
    "        ]\n",
    "\n",
    "        for email in emails_invalides:\n",
    "            with self.subTest(email=email):\n",
    "                self.assertFalse(validate_email(email), f\"L'email '{email}' devrait être reconnu comme invalide\")"
   ],
   "id": "7ee20137f8aba8ea"
  },
  {
   "metadata": {},
   "cell_type": "code",
   "outputs": [],
   "execution_count": null,
   "source": [
    "if __name__ == '__main__':\n",
    "    unittest.main(argv=['first-arg-is-ignored'], exit=False)"
   ],
   "id": "39942b78ce219226"
  }
 ],
 "metadata": {
  "kernelspec": {
   "display_name": "Python 3",
   "language": "python",
   "name": "python3"
  },
  "language_info": {
   "codemirror_mode": {
    "name": "ipython",
    "version": 2
   },
   "file_extension": ".py",
   "mimetype": "text/x-python",
   "name": "python",
   "nbconvert_exporter": "python",
   "pygments_lexer": "ipython2",
   "version": "2.7.6"
  }
 },
 "nbformat": 4,
 "nbformat_minor": 5
}
