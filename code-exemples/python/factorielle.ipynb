{
 "cells": [
  {
   "metadata": {},
   "cell_type": "code",
   "outputs": [],
   "execution_count": null,
   "source": "# Écrire une fonction permettant de calculer la factorielle d'un nombre.",
   "id": "3a335c04d8c54862"
  },
  {
   "metadata": {},
   "cell_type": "markdown",
   "source": [
    "# Calcul de factorielle\n",
    "\n",
    "La factorielle d'un nombre entier positif n, notée n!, est le produit de tous les entiers positifs inférieurs ou égaux à n.\n",
    "\n",
    "Par définition :\n",
    "- 0! = 1\n",
    "- 1! = 1\n",
    "- n! = n × (n-1) × (n-2) × ... × 2 × 1 pour n > 1\n",
    "\n",
    "Ce notebook implémente et teste différentes méthodes pour calculer la factorielle."
   ],
   "id": "5dec5642eef28213"
  },
  {
   "metadata": {
    "ExecuteTime": {
     "end_time": "2025-04-20T13:50:22.114534Z",
     "start_time": "2025-04-20T13:50:22.110919Z"
    }
   },
   "cell_type": "code",
   "source": [
    "def factorielle_iterative(n):\n",
    "    \"\"\"\n",
    "    Calcule la factorielle d'un nombre de façon itérative.\n",
    "\n",
    "    Args:\n",
    "        n (int): Un nombre entier positif\n",
    "\n",
    "    Returns:\n",
    "        int: La factorielle de n\n",
    "\n",
    "    Raises:\n",
    "        ValueError: Si n est négatif\n",
    "    \"\"\"\n",
    "    if not isinstance(n, int):\n",
    "        raise TypeError(\"L'argument doit être un entier\")\n",
    "\n",
    "    if n < 0:\n",
    "        raise ValueError(\"La factorielle n'est définie que pour les nombres positifs ou nuls\")\n",
    "\n",
    "    resultat = 1\n",
    "    for i in range(1, n + 1):\n",
    "        resultat *= i\n",
    "\n",
    "    return resultat"
   ],
   "id": "9c09349c85522826",
   "outputs": [],
   "execution_count": 2
  },
  {
   "metadata": {
    "ExecuteTime": {
     "end_time": "2025-04-20T13:50:23.349703Z",
     "start_time": "2025-04-20T13:50:23.345637Z"
    }
   },
   "cell_type": "code",
   "source": [
    "def factorielle_recursive(n):\n",
    "    \"\"\"\n",
    "    Calcule la factorielle d'un nombre de façon récursive.\n",
    "\n",
    "    Args:\n",
    "        n (int): Un nombre entier positif\n",
    "\n",
    "    Returns:\n",
    "        int: La factorielle de n\n",
    "\n",
    "    Raises:\n",
    "        ValueError: Si n est négatif\n",
    "    \"\"\"\n",
    "    if not isinstance(n, int):\n",
    "        raise TypeError(\"L'argument doit être un entier\")\n",
    "\n",
    "    if n < 0:\n",
    "        raise ValueError(\"La factorielle n'est définie que pour les nombres positifs ou nuls\")\n",
    "\n",
    "    if n <= 1:\n",
    "        return 1\n",
    "    else:\n",
    "        return n * factorielle_recursive(n - 1)"
   ],
   "id": "483b9ec72250d791",
   "outputs": [],
   "execution_count": 3
  },
  {
   "metadata": {
    "ExecuteTime": {
     "end_time": "2025-04-20T13:50:24.452493Z",
     "start_time": "2025-04-20T13:50:24.445925Z"
    }
   },
   "cell_type": "code",
   "source": [
    "import time\n",
    "\n",
    "# Cas de test\n",
    "nombres = [0, 1, 5, 10, 20]\n",
    "valeurs_attendues = [1, 1, 120, 3628800, 2432902008176640000]\n",
    "\n",
    "print(\"Tests de factorielle_iterative :\")\n",
    "for n, attendu in zip(nombres, valeurs_attendues):\n",
    "    resultat = factorielle_iterative(n)\n",
    "    print(f\"{n}! = {resultat}, correct: {resultat == attendu}\")\n",
    "\n",
    "print(\"\\nTests de factorielle_recursive :\")\n",
    "for n, attendu in zip(nombres, valeurs_attendues):\n",
    "    resultat = factorielle_recursive(n)\n",
    "    print(f\"{n}! = {resultat}, correct: {resultat == attendu}\")\n",
    "\n",
    "# Test de performance pour n=20\n",
    "n = 20\n",
    "print(\"\\nTest de performance pour n =\", n)\n",
    "\n",
    "debut = time.time()\n",
    "factorielle_iterative(n)\n",
    "fin = time.time()\n",
    "print(f\"Méthode itérative: {(fin - debut)*1000:.6f} ms\")\n",
    "\n",
    "debut = time.time()\n",
    "factorielle_recursive(n)\n",
    "fin = time.time()\n",
    "print(f\"Méthode récursive: {(fin - debut)*1000:.6f} ms\")"
   ],
   "id": "5cc1539eccec8f29",
   "outputs": [
    {
     "name": "stdout",
     "output_type": "stream",
     "text": [
      "Tests de factorielle_iterative :\n",
      "0! = 1, correct: True\n",
      "1! = 1, correct: True\n",
      "5! = 120, correct: True\n",
      "10! = 3628800, correct: True\n",
      "20! = 2432902008176640000, correct: True\n",
      "\n",
      "Tests de factorielle_recursive :\n",
      "0! = 1, correct: True\n",
      "1! = 1, correct: True\n",
      "5! = 120, correct: True\n",
      "10! = 3628800, correct: True\n",
      "20! = 2432902008176640000, correct: True\n",
      "\n",
      "Test de performance pour n = 20\n",
      "Méthode itérative: 0.000000 ms\n",
      "Méthode récursive: 0.000000 ms\n"
     ]
    }
   ],
   "execution_count": 4
  },
  {
   "metadata": {
    "ExecuteTime": {
     "end_time": "2025-04-20T13:50:29.091731Z",
     "start_time": "2025-04-20T13:50:29.084318Z"
    }
   },
   "cell_type": "code",
   "source": [
    "# Test de gestion des erreurs\n",
    "try:\n",
    "    factorielle_iterative(-1)\n",
    "except ValueError as e:\n",
    "    print(f\"Erreur correctement gérée: {e}\")\n",
    "\n",
    "try:\n",
    "    factorielle_iterative(3.5)\n",
    "except TypeError as e:\n",
    "    print(f\"Erreur correctement gérée: {e}\")\n",
    "\n",
    "# Test avec une valeur élevée\n",
    "# Note: la fonction récursive peut causer une erreur RecursionError pour les valeurs élevées\n",
    "try:\n",
    "    n = 100\n",
    "    resultat = factorielle_iterative(n)\n",
    "    print(f\"Factorielle de {n} = {resultat}\")\n",
    "except Exception as e:\n",
    "    print(f\"Erreur: {e}\")"
   ],
   "id": "fd8ddb83c751c155",
   "outputs": [
    {
     "name": "stdout",
     "output_type": "stream",
     "text": [
      "Erreur correctement gérée: La factorielle n'est définie que pour les nombres positifs ou nuls\n",
      "Erreur correctement gérée: L'argument doit être un entier\n",
      "Factorielle de 100 = 93326215443944152681699238856266700490715968264381621468592963895217599993229915608941463976156518286253697920827223758251185210916864000000000000000000000000\n"
     ]
    }
   ],
   "execution_count": 5
  }
 ],
 "metadata": {
  "kernelspec": {
   "display_name": "Python 3",
   "language": "python",
   "name": "python3"
  },
  "language_info": {
   "codemirror_mode": {
    "name": "ipython",
    "version": 2
   },
   "file_extension": ".py",
   "mimetype": "text/x-python",
   "name": "python",
   "nbconvert_exporter": "python",
   "pygments_lexer": "ipython2",
   "version": "2.7.6"
  }
 },
 "nbformat": 4,
 "nbformat_minor": 5
}
